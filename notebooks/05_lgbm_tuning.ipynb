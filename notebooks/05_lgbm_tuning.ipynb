{
 "cells": [
  {
   "cell_type": "code",
   "execution_count": null,
   "id": "f9eb2fb4-1988-41de-88e3-2b07048a0062",
   "metadata": {},
   "outputs": [],
   "source": [
    "import sys\n",
    "import os\n",
    "from pathlib import Path\n",
    "from dotenv import load_dotenv\n",
    "import pandas as pd\n",
    "import optuna\n",
    "import importlib\n",
    "\n",
    "sys.path.append(os.path.abspath(\"..\"))\n",
    "\n",
    "import src.models.lgbm.lgbm_cv_trainer as cv\n",
    "import src.models.lgbm.lgbm_optuna_optimizer as op\n",
    "import src.utils.telegram as te"
   ]
  },
  {
   "cell_type": "code",
   "execution_count": null,
   "id": "d1443cab-6c7f-48e7-950e-2317ccc99379",
   "metadata": {},
   "outputs": [],
   "source": [
    "# Load data\n",
    "env_path = Path.cwd().parent / \".env\"\n",
    "load_dotenv(dotenv_path=env_path)\n",
    "url = os.environ.get(\"OPTUNA_STORAGE_URL\")\n",
    "\n",
    "tr_df1 = pd.read_parquet(\"../artifacts/features/base/tr_df1.parquet\")"
   ]
  },
  {
   "cell_type": "code",
   "execution_count": null,
   "id": "ac49c7d5-02bf-4f2f-b9a0-79a294a584e5",
   "metadata": {
    "scrolled": true
   },
   "outputs": [],
   "source": [
    "# Tuning\n",
    "importlib.reload(cv)\n",
    "importlib.reload(op)\n",
    "objective = op.create_objective(\n",
    "    tr_df1,\n",
    "    early_stopping_rounds=500,\n",
    "    n_jobs=25\n",
    ")\n",
    "\n",
    "study = op.run_optuna_search(\n",
    "    objective,\n",
    "    n_trials=50,\n",
    "    n_jobs=1,\n",
    "    study_name=\"lgbm_v1\",\n",
    "    storage=url,\n",
    "    sampler=optuna.samplers.TPESampler(\n",
    "        n_startup_trials=20, seed=42)\n",
    ")\n",
    "te.send_telegram_message(\"LGBM Training Complete!\")"
   ]
  }
 ],
 "metadata": {
  "kernelspec": {
   "display_name": "Python 3 (ipykernel)",
   "language": "python",
   "name": "python3"
  },
  "language_info": {
   "codemirror_mode": {
    "name": "ipython",
    "version": 3
   },
   "file_extension": ".py",
   "mimetype": "text/x-python",
   "name": "python",
   "nbconvert_exporter": "python",
   "pygments_lexer": "ipython3",
   "version": "3.10.18"
  }
 },
 "nbformat": 4,
 "nbformat_minor": 5
}
