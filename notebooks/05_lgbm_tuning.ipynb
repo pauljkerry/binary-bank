{
 "cells": [
  {
   "cell_type": "code",
   "execution_count": 1,
   "id": "f9eb2fb4-1988-41de-88e3-2b07048a0062",
   "metadata": {},
   "outputs": [],
   "source": [
    "import sys\n",
    "import os\n",
    "from pathlib import Path\n",
    "from dotenv import load_dotenv\n",
    "import pandas as pd\n",
    "import optuna\n",
    "import importlib\n",
    "\n",
    "sys.path.append(os.path.abspath(\"..\"))\n",
    "\n",
    "import src.models.lgbm.lgbm_cv_trainer as cv\n",
    "import src.models.lgbm.lgbm_optuna_optimizer as op\n",
    "import src.utils.telegram as te"
   ]
  },
  {
   "cell_type": "code",
   "execution_count": 3,
   "id": "bafc52a5-c576-409a-ae41-170ee85f9ef2",
   "metadata": {},
   "outputs": [],
   "source": [
    "optuna.delete_study(\n",
    "    study_name=\"lgbm_v3\",\n",
    "    storage=url)"
   ]
  },
  {
   "cell_type": "code",
   "execution_count": 2,
   "id": "d1443cab-6c7f-48e7-950e-2317ccc99379",
   "metadata": {},
   "outputs": [],
   "source": [
    "# Load data\n",
    "env_path = Path.cwd().parent / \".env\"\n",
    "load_dotenv(dotenv_path=env_path)\n",
    "url = os.environ.get(\"OPTUNA_STORAGE_URL\")\n",
    "\n",
    "tr_df12 = pd.read_parquet(\"../artifacts/features/base/tr_df12.parquet\")\n",
    "l1_tr_df3 = pd.read_parquet(\"../artifacts/features/l1/l1_tr_df3.parquet\")"
   ]
  },
  {
   "cell_type": "code",
   "execution_count": null,
   "id": "ac49c7d5-02bf-4f2f-b9a0-79a294a584e5",
   "metadata": {
    "scrolled": true
   },
   "outputs": [
    {
     "name": "stderr",
     "output_type": "stream",
     "text": [
      "[I 2025-08-06 14:49:57,416] Using an existing study with name 'lgbm_v3' instead of creating a new one.\n"
     ]
    },
    {
     "data": {
      "application/vnd.jupyter.widget-view+json": {
       "model_id": "50d8310b3c8942398f5e42bce840d0b7",
       "version_major": 2,
       "version_minor": 0
      },
      "text/plain": [
       "  0%|          | 0/50 [00:00<?, ?it/s]"
      ]
     },
     "metadata": {},
     "output_type": "display_data"
    },
    {
     "name": "stdout",
     "output_type": "stream",
     "text": [
      "Training until validation scores don't improve for 500 rounds\n",
      "[100]\ttrain's auc: 0.966927\teval's auc: 0.96765\n"
     ]
    }
   ],
   "source": [
    "# Tuning\n",
    "importlib.reload(cv)\n",
    "importlib.reload(op)\n",
    "objective = op.create_objective(\n",
    "    tr_df12,\n",
    "    early_stopping_rounds=500,\n",
    "    n_jobs=25\n",
    ")\n",
    "\n",
    "study = op.run_optuna_search(\n",
    "    objective,\n",
    "    n_trials=50,\n",
    "    n_jobs=1,\n",
    "    direction=\"maximize\",\n",
    "    study_name=\"lgbm_v3\",\n",
    "    storage=url,\n",
    "    sampler=optuna.samplers.TPESampler(\n",
    "        n_startup_trials=20, seed=42),\n",
    ")\n",
    "te.send_telegram_message(\"LGBM Training Complete!\")"
   ]
  }
 ],
 "metadata": {
  "kernelspec": {
   "display_name": "Python 3 (ipykernel)",
   "language": "python",
   "name": "python3"
  },
  "language_info": {
   "codemirror_mode": {
    "name": "ipython",
    "version": 3
   },
   "file_extension": ".py",
   "mimetype": "text/x-python",
   "name": "python",
   "nbconvert_exporter": "python",
   "pygments_lexer": "ipython3",
   "version": "3.10.18"
  }
 },
 "nbformat": 4,
 "nbformat_minor": 5
}
