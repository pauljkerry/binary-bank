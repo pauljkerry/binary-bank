{
 "cells": [
  {
   "cell_type": "code",
   "execution_count": 1,
   "id": "f0b5b1f3-6a7f-4d2f-b7c3-b0438da68160",
   "metadata": {},
   "outputs": [],
   "source": [
    "import sys\n",
    "import os\n",
    "from pathlib import Path\n",
    "from dotenv import load_dotenv\n",
    "import pandas as pd\n",
    "import optuna\n",
    "import importlib\n",
    "\n",
    "sys.path.append(os.path.abspath(\"..\"))\n",
    "\n",
    "import src.models.cb.cb_cv_trainer as cv\n",
    "import src.models.cb.cb_optuna_optimizer as op\n",
    "import src.utils.telegram as te"
   ]
  },
  {
   "cell_type": "code",
   "execution_count": 2,
   "id": "31a21e06-9dce-416b-8fed-bf8f68058a81",
   "metadata": {},
   "outputs": [],
   "source": [
    "# Load data\n",
    "env_path = Path.cwd().parent / \".env\"\n",
    "load_dotenv(dotenv_path=env_path)\n",
    "url = os.environ.get(\"OPTUNA_STORAGE_URL\")\n",
    "\n",
    "tr_df1 = pd.read_parquet(\"../artifacts/features/base/tr_df1.parquet\")"
   ]
  },
  {
   "cell_type": "code",
   "execution_count": 5,
   "id": "09a8b85d-9c55-4906-aa4a-9d2e0a6bdf42",
   "metadata": {
    "scrolled": true
   },
   "outputs": [
    {
     "name": "stderr",
     "output_type": "stream",
     "text": [
      "[I 2025-08-01 19:55:51,515] A new study created in RDB with name: cb_v1\n"
     ]
    },
    {
     "data": {
      "application/vnd.jupyter.widget-view+json": {
       "model_id": "5ff32ea573754cafb9ef8a12e3cc61cd",
       "version_major": 2,
       "version_minor": 0
      },
      "text/plain": [
       "  0%|          | 0/1 [00:00<?, ?it/s]"
      ]
     },
     "metadata": {},
     "output_type": "display_data"
    },
    {
     "name": "stdout",
     "output_type": "stream",
     "text": [
      "0:\tlearn: 0.6609730\ttest: 0.6609759\tbest: 0.6609759 (0)\ttotal: 97.3ms\tremaining: 16m 12s\n",
      "100:\tlearn: 0.1793446\ttest: 0.1788196\tbest: 0.1788196 (100)\ttotal: 4.39s\tremaining: 7m 10s\n",
      "200:\tlearn: 0.1678454\ttest: 0.1672930\tbest: 0.1672930 (200)\ttotal: 9.05s\tremaining: 7m 21s\n",
      "300:\tlearn: 0.1636771\ttest: 0.1633106\tbest: 0.1633106 (300)\ttotal: 13.5s\tremaining: 7m 15s\n",
      "400:\tlearn: 0.1612550\ttest: 0.1611249\tbest: 0.1611249 (400)\ttotal: 18s\tremaining: 7m 10s\n",
      "500:\tlearn: 0.1592742\ttest: 0.1593628\tbest: 0.1593628 (500)\ttotal: 22.2s\tremaining: 7m 1s\n",
      "600:\tlearn: 0.1578502\ttest: 0.1581509\tbest: 0.1581509 (600)\ttotal: 26.5s\tremaining: 6m 54s\n",
      "700:\tlearn: 0.1563347\ttest: 0.1568739\tbest: 0.1568739 (700)\ttotal: 31s\tremaining: 6m 51s\n",
      "800:\tlearn: 0.1539845\ttest: 0.1547753\tbest: 0.1547753 (800)\ttotal: 35.6s\tremaining: 6m 48s\n",
      "900:\tlearn: 0.1522487\ttest: 0.1532817\tbest: 0.1532817 (900)\ttotal: 39.9s\tremaining: 6m 42s\n",
      "1000:\tlearn: 0.1508993\ttest: 0.1521885\tbest: 0.1521885 (1000)\ttotal: 44.6s\tremaining: 6m 40s\n",
      "1100:\tlearn: 0.1498180\ttest: 0.1513854\tbest: 0.1513854 (1100)\ttotal: 49.3s\tremaining: 6m 38s\n",
      "1200:\tlearn: 0.1489652\ttest: 0.1508231\tbest: 0.1508231 (1200)\ttotal: 53.6s\tremaining: 6m 32s\n",
      "1300:\tlearn: 0.1482032\ttest: 0.1503256\tbest: 0.1503256 (1300)\ttotal: 58s\tremaining: 6m 27s\n",
      "1400:\tlearn: 0.1474845\ttest: 0.1498885\tbest: 0.1498885 (1400)\ttotal: 1m 2s\tremaining: 6m 25s\n",
      "1500:\tlearn: 0.1468570\ttest: 0.1495554\tbest: 0.1495554 (1500)\ttotal: 1m 7s\tremaining: 6m 22s\n",
      "1600:\tlearn: 0.1462942\ttest: 0.1492889\tbest: 0.1492889 (1600)\ttotal: 1m 12s\tremaining: 6m 17s\n",
      "1700:\tlearn: 0.1457471\ttest: 0.1490151\tbest: 0.1490151 (1700)\ttotal: 1m 16s\tremaining: 6m 14s\n",
      "1800:\tlearn: 0.1451949\ttest: 0.1487471\tbest: 0.1487471 (1800)\ttotal: 1m 21s\tremaining: 6m 10s\n",
      "1900:\tlearn: 0.1446948\ttest: 0.1485279\tbest: 0.1485279 (1900)\ttotal: 1m 25s\tremaining: 6m 6s\n",
      "2000:\tlearn: 0.1442121\ttest: 0.1483309\tbest: 0.1483309 (2000)\ttotal: 1m 30s\tremaining: 6m 1s\n",
      "2100:\tlearn: 0.1437515\ttest: 0.1481504\tbest: 0.1481502 (2099)\ttotal: 1m 35s\tremaining: 5m 57s\n",
      "2200:\tlearn: 0.1433206\ttest: 0.1480051\tbest: 0.1480050 (2199)\ttotal: 1m 39s\tremaining: 5m 53s\n",
      "2300:\tlearn: 0.1429124\ttest: 0.1478637\tbest: 0.1478637 (2300)\ttotal: 1m 44s\tremaining: 5m 49s\n",
      "2400:\tlearn: 0.1424775\ttest: 0.1477209\tbest: 0.1477209 (2400)\ttotal: 1m 49s\tremaining: 5m 44s\n",
      "2500:\tlearn: 0.1420685\ttest: 0.1475921\tbest: 0.1475917 (2499)\ttotal: 1m 53s\tremaining: 5m 40s\n",
      "2600:\tlearn: 0.1416389\ttest: 0.1474483\tbest: 0.1474483 (2600)\ttotal: 1m 58s\tremaining: 5m 36s\n",
      "2700:\tlearn: 0.1412649\ttest: 0.1473352\tbest: 0.1473352 (2700)\ttotal: 2m 3s\tremaining: 5m 32s\n",
      "2800:\tlearn: 0.1408528\ttest: 0.1472290\tbest: 0.1472290 (2800)\ttotal: 2m 7s\tremaining: 5m 28s\n",
      "2900:\tlearn: 0.1404686\ttest: 0.1471159\tbest: 0.1471159 (2900)\ttotal: 2m 12s\tremaining: 5m 24s\n",
      "3000:\tlearn: 0.1400977\ttest: 0.1470118\tbest: 0.1470118 (3000)\ttotal: 2m 17s\tremaining: 5m 20s\n",
      "3100:\tlearn: 0.1397455\ttest: 0.1469207\tbest: 0.1469206 (3099)\ttotal: 2m 21s\tremaining: 5m 15s\n",
      "3200:\tlearn: 0.1393757\ttest: 0.1468241\tbest: 0.1468241 (3200)\ttotal: 2m 26s\tremaining: 5m 11s\n",
      "3300:\tlearn: 0.1390227\ttest: 0.1467656\tbest: 0.1467649 (3297)\ttotal: 2m 31s\tremaining: 5m 6s\n",
      "3400:\tlearn: 0.1386874\ttest: 0.1466782\tbest: 0.1466777 (3395)\ttotal: 2m 36s\tremaining: 5m 2s\n",
      "3500:\tlearn: 0.1383372\ttest: 0.1466032\tbest: 0.1466032 (3500)\ttotal: 2m 40s\tremaining: 4m 58s\n",
      "3600:\tlearn: 0.1379907\ttest: 0.1465504\tbest: 0.1465504 (3600)\ttotal: 2m 45s\tremaining: 4m 54s\n",
      "3700:\tlearn: 0.1376537\ttest: 0.1465004\tbest: 0.1465004 (3700)\ttotal: 2m 50s\tremaining: 4m 49s\n",
      "3800:\tlearn: 0.1373333\ttest: 0.1464557\tbest: 0.1464549 (3797)\ttotal: 2m 54s\tremaining: 4m 45s\n",
      "3900:\tlearn: 0.1369902\ttest: 0.1464033\tbest: 0.1464033 (3900)\ttotal: 2m 59s\tremaining: 4m 40s\n",
      "4000:\tlearn: 0.1366679\ttest: 0.1463467\tbest: 0.1463467 (4000)\ttotal: 3m 4s\tremaining: 4m 36s\n",
      "4100:\tlearn: 0.1363529\ttest: 0.1462664\tbest: 0.1462660 (4098)\ttotal: 3m 8s\tremaining: 4m 31s\n",
      "4200:\tlearn: 0.1360420\ttest: 0.1462194\tbest: 0.1462194 (4200)\ttotal: 3m 13s\tremaining: 4m 27s\n",
      "4300:\tlearn: 0.1357374\ttest: 0.1461821\tbest: 0.1461817 (4299)\ttotal: 3m 18s\tremaining: 4m 23s\n",
      "4400:\tlearn: 0.1354222\ttest: 0.1461339\tbest: 0.1461339 (4400)\ttotal: 3m 23s\tremaining: 4m 18s\n",
      "4500:\tlearn: 0.1351104\ttest: 0.1460842\tbest: 0.1460842 (4494)\ttotal: 3m 27s\tremaining: 4m 13s\n",
      "4600:\tlearn: 0.1348165\ttest: 0.1460370\tbest: 0.1460343 (4595)\ttotal: 3m 32s\tremaining: 4m 9s\n",
      "4700:\tlearn: 0.1345080\ttest: 0.1459919\tbest: 0.1459919 (4700)\ttotal: 3m 37s\tremaining: 4m 4s\n",
      "4800:\tlearn: 0.1341931\ttest: 0.1459415\tbest: 0.1459415 (4800)\ttotal: 3m 41s\tremaining: 4m\n",
      "4900:\tlearn: 0.1338829\ttest: 0.1458995\tbest: 0.1458992 (4895)\ttotal: 3m 46s\tremaining: 3m 55s\n",
      "5000:\tlearn: 0.1335909\ttest: 0.1458608\tbest: 0.1458608 (5000)\ttotal: 3m 51s\tremaining: 3m 51s\n",
      "5100:\tlearn: 0.1332759\ttest: 0.1458218\tbest: 0.1458218 (5100)\ttotal: 3m 55s\tremaining: 3m 46s\n",
      "5200:\tlearn: 0.1329734\ttest: 0.1457901\tbest: 0.1457901 (5200)\ttotal: 4m\tremaining: 3m 41s\n",
      "5300:\tlearn: 0.1327191\ttest: 0.1457721\tbest: 0.1457712 (5292)\ttotal: 4m 5s\tremaining: 3m 37s\n",
      "5400:\tlearn: 0.1324556\ttest: 0.1457490\tbest: 0.1457475 (5398)\ttotal: 4m 9s\tremaining: 3m 32s\n",
      "5500:\tlearn: 0.1321762\ttest: 0.1457060\tbest: 0.1457060 (5500)\ttotal: 4m 14s\tremaining: 3m 27s\n",
      "5600:\tlearn: 0.1319032\ttest: 0.1456924\tbest: 0.1456895 (5579)\ttotal: 4m 18s\tremaining: 3m 23s\n",
      "5700:\tlearn: 0.1316139\ttest: 0.1456637\tbest: 0.1456636 (5696)\ttotal: 4m 23s\tremaining: 3m 18s\n",
      "5800:\tlearn: 0.1313412\ttest: 0.1456388\tbest: 0.1456375 (5797)\ttotal: 4m 28s\tremaining: 3m 14s\n",
      "5900:\tlearn: 0.1310736\ttest: 0.1456072\tbest: 0.1456070 (5899)\ttotal: 4m 32s\tremaining: 3m 9s\n",
      "6000:\tlearn: 0.1308144\ttest: 0.1455848\tbest: 0.1455830 (5987)\ttotal: 4m 37s\tremaining: 3m 4s\n",
      "6100:\tlearn: 0.1305465\ttest: 0.1455520\tbest: 0.1455517 (6098)\ttotal: 4m 42s\tremaining: 3m\n",
      "6200:\tlearn: 0.1302745\ttest: 0.1455318\tbest: 0.1455318 (6200)\ttotal: 4m 46s\tremaining: 2m 55s\n",
      "6300:\tlearn: 0.1300150\ttest: 0.1455193\tbest: 0.1455178 (6298)\ttotal: 4m 51s\tremaining: 2m 51s\n",
      "6400:\tlearn: 0.1297814\ttest: 0.1454887\tbest: 0.1454887 (6400)\ttotal: 4m 56s\tremaining: 2m 46s\n",
      "6500:\tlearn: 0.1295152\ttest: 0.1454498\tbest: 0.1454498 (6500)\ttotal: 5m\tremaining: 2m 41s\n",
      "6600:\tlearn: 0.1292731\ttest: 0.1454386\tbest: 0.1454385 (6593)\ttotal: 5m 5s\tremaining: 2m 37s\n",
      "6700:\tlearn: 0.1290022\ttest: 0.1454222\tbest: 0.1454207 (6697)\ttotal: 5m 9s\tremaining: 2m 32s\n",
      "6800:\tlearn: 0.1287419\ttest: 0.1453832\tbest: 0.1453832 (6800)\ttotal: 5m 14s\tremaining: 2m 27s\n",
      "6900:\tlearn: 0.1284853\ttest: 0.1453691\tbest: 0.1453680 (6897)\ttotal: 5m 19s\tremaining: 2m 23s\n",
      "7000:\tlearn: 0.1282305\ttest: 0.1453447\tbest: 0.1453443 (6999)\ttotal: 5m 23s\tremaining: 2m 18s\n",
      "7100:\tlearn: 0.1279819\ttest: 0.1453251\tbest: 0.1453248 (7088)\ttotal: 5m 28s\tremaining: 2m 14s\n",
      "7200:\tlearn: 0.1277482\ttest: 0.1453187\tbest: 0.1453148 (7156)\ttotal: 5m 33s\tremaining: 2m 9s\n",
      "7300:\tlearn: 0.1274896\ttest: 0.1452981\tbest: 0.1452958 (7285)\ttotal: 5m 37s\tremaining: 2m 4s\n",
      "7400:\tlearn: 0.1272521\ttest: 0.1452845\tbest: 0.1452836 (7398)\ttotal: 5m 42s\tremaining: 2m\n",
      "7500:\tlearn: 0.1269948\ttest: 0.1452715\tbest: 0.1452689 (7483)\ttotal: 5m 46s\tremaining: 1m 55s\n",
      "7600:\tlearn: 0.1267615\ttest: 0.1452789\tbest: 0.1452689 (7483)\ttotal: 5m 51s\tremaining: 1m 50s\n",
      "bestTest = 0.1452688932\n",
      "bestIteration = 7483\n",
      "Shrink model to first 7484 iterations.\n",
      "Train Logloss: 0.12704\n",
      "Valid Logloss: 0.14527\n",
      "Training time: 00:05:58\n",
      "[I 2025-08-01 20:01:50,069] Trial 0 finished with value: 0.1452701171875 and parameters: {'learning_rate': 0.02, 'depth': 8, 'min_data_in_leaf': 95.56428757689245, 'l2_leaf_reg': 14.642558896809986, 'bagging_temperature': 0.6026718993550663, 'random_strength': 13, 'border_count': 147}. Best is trial 0 with value: 0.1452701171875.\n",
      "✅ Message sent successfully.\n"
     ]
    }
   ],
   "source": [
    "# Tuning\n",
    "importlib.reload(cv)\n",
    "importlib.reload(op)\n",
    "objective = op.create_objective(\n",
    "    tr_df1,\n",
    "    early_stopping_rounds=200,\n",
    "    n_jobs=1,\n",
    "    task_type=\"GPU\"\n",
    ")\n",
    "\n",
    "study = op.run_optuna_search(\n",
    "    objective,\n",
    "    n_trials=1,\n",
    "    n_jobs=1,\n",
    "    direction=\"minimize\",\n",
    "    study_name=\"cb_v1\",\n",
    "    storage=url,\n",
    "    sampler=optuna.samplers.TPESampler(\n",
    "        n_startup_trials=30, seed=42)\n",
    ")\n",
    "te.send_telegram_message(\"CB Training Complete!\")"
   ]
  }
 ],
 "metadata": {
  "kernelspec": {
   "display_name": "rapids-23.12",
   "language": "python",
   "name": "rapids-23.12"
  },
  "language_info": {
   "codemirror_mode": {
    "name": "ipython",
    "version": 3
   },
   "file_extension": ".py",
   "mimetype": "text/x-python",
   "name": "python",
   "nbconvert_exporter": "python",
   "pygments_lexer": "ipython3",
   "version": "3.10.18"
  }
 },
 "nbformat": 4,
 "nbformat_minor": 5
}
