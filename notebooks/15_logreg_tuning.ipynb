{
 "cells": [
  {
   "cell_type": "code",
   "execution_count": 1,
   "id": "7636798d-02c3-4e61-b732-00317f9f9f32",
   "metadata": {},
   "outputs": [],
   "source": [
    "import sys\n",
    "import os\n",
    "from pathlib import Path\n",
    "from dotenv import load_dotenv\n",
    "import cudf\n",
    "import optuna\n",
    "import importlib\n",
    "\n",
    "sys.path.append(os.path.abspath(\"..\"))\n",
    "\n",
    "import src.models.logreg.logreg_cv_trainer as cv\n",
    "import src.models.logreg.logreg_optuna_optimizer as op\n",
    "import src.utils.telegram as te"
   ]
  },
  {
   "cell_type": "code",
   "execution_count": 2,
   "id": "a5a08409-763e-480d-ab9a-9844353171f5",
   "metadata": {},
   "outputs": [],
   "source": [
    "# Load data\n",
    "env_path = Path.cwd().parent / \".env\"\n",
    "load_dotenv(dotenv_path=env_path)\n",
    "url = os.environ.get(\"OPTUNA_STORAGE_URL\")\n",
    "\n",
    "tr_df9 = cudf.read_parquet(\"../artifacts/features/base/tr_df9.parquet\")"
   ]
  },
  {
   "cell_type": "code",
   "execution_count": null,
   "id": "610ecb7b",
   "metadata": {
    "scrolled": true
   },
   "outputs": [
    {
     "name": "stderr",
     "output_type": "stream",
     "text": [
      "[I 2025-08-03 05:41:12,242] A new study created in RDB with name: logreg_v1\n"
     ]
    },
    {
     "data": {
      "application/vnd.jupyter.widget-view+json": {
       "model_id": "b6bd6efc0e524a63a763057c57d9d381",
       "version_major": 2,
       "version_minor": 0
      },
      "text/plain": [
       "  0%|          | 0/30 [00:00<?, ?it/s]"
      ]
     },
     "metadata": {},
     "output_type": "display_data"
    },
    {
     "name": "stdout",
     "output_type": "stream",
     "text": [
      "Training time: 00:10:33\n",
      "Valid Log Loss: 0.17442\n",
      "Valid Accuracy: 0.92305\n",
      "[I 2025-08-03 05:52:17,298] Trial 0 finished with value: 0.17441870571638549 and parameters: {'C': 0.31489116479568624}. Best is trial 0 with value: 0.17441870571638549.\n",
      "Training time: 00:11:43\n",
      "Valid Log Loss: 0.17168\n",
      "Valid Accuracy: 0.92441\n",
      "[I 2025-08-03 06:04:18,836] Trial 1 finished with value: 0.17167917943186187 and parameters: {'C': 63.512210106407046}. Best is trial 1 with value: 0.17167917943186187.\n"
     ]
    }
   ],
   "source": [
    "# Tuning\n",
    "importlib.reload(cv)\n",
    "importlib.reload(op)\n",
    "objective = op.create_objective(tr_df9)\n",
    "\n",
    "op.run_optuna_search(\n",
    "    objective,\n",
    "    n_trials=30,\n",
    "    direction=\"minimize\",\n",
    "    study_name=\"logreg_v1\",\n",
    "    storage=url,\n",
    "    sampler=optuna.samplers.TPESampler(\n",
    "        n_startup_trials=30, seed=42)\n",
    ")\n",
    "te.send_telegram_message(\"LogReg Training Complete!\")"
   ]
  }
 ],
 "metadata": {
  "kernelspec": {
   "display_name": "rapids-23.12",
   "language": "python",
   "name": "rapids-23.12"
  },
  "language_info": {
   "codemirror_mode": {
    "name": "ipython",
    "version": 3
   },
   "file_extension": ".py",
   "mimetype": "text/x-python",
   "name": "python",
   "nbconvert_exporter": "python",
   "pygments_lexer": "ipython3",
   "version": "3.10.18"
  }
 },
 "nbformat": 4,
 "nbformat_minor": 5
}
