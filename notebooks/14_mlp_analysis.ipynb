{
 "cells": [
  {
   "cell_type": "code",
   "execution_count": 7,
   "id": "0310ea3f-39d4-4522-bfd2-303c8c76fcb5",
   "metadata": {},
   "outputs": [],
   "source": [
    "import sys\n",
    "import os\n",
    "from pathlib import Path\n",
    "from dotenv import load_dotenv\n",
    "import pandas as pd\n",
    "import numpy as np\n",
    "import importlib\n",
    "\n",
    "sys.path.append(os.path.abspath(\"..\"))\n",
    "\n",
    "import src.models.mlp.mlp_cv_trainer as cv\n",
    "import src.utils.optuna_visualizer as opv\n",
    "import src.utils.telegram as te"
   ]
  },
  {
   "cell_type": "code",
   "execution_count": 8,
   "id": "0483e9a2-ecc5-4078-a62a-31ab26efcca0",
   "metadata": {},
   "outputs": [],
   "source": [
    "# Load data\n",
    "env_path = Path.cwd().parent / \".env\"\n",
    "load_dotenv(dotenv_path=env_path)\n",
    "url = os.environ.get(\"OPTUNA_STORAGE_URL\")\n",
    "\n",
    "l1_tr_df2 = pd.read_parquet(\"../artifacts/features/l1/l1_tr_df2.parquet\")\n",
    "l1_test_df2 = pd.read_parquet(\"../artifacts/features/l1/l1_test_df2.parquet\")\n",
    "l1_tr_df4 = pd.read_parquet(\"../artifacts/features/l1/l1_tr_df4.parquet\")\n",
    "l1_test_df4 = pd.read_parquet(\"../artifacts/features/l1/l1_test_df4.parquet\")"
   ]
  },
  {
   "cell_type": "code",
   "execution_count": null,
   "id": "6c9d4efe-b5a7-4f62-8a0e-7875dc414dd1",
   "metadata": {
    "scrolled": true
   },
   "outputs": [],
   "source": [
    "# Check tuning results\n",
    "study_name = \"l1_mlp_v2\"\n",
    "\n",
    "study = opv.OptunaVisualizer(study_name, url)\n",
    "study.visualize_optimization()\n",
    "study.print_trials_table()"
   ]
  },
  {
   "cell_type": "code",
   "execution_count": null,
   "id": "e836cd54-1420-42d6-92fc-db92689d9d8c",
   "metadata": {
    "scrolled": true
   },
   "outputs": [],
   "source": [
    "# Create OOF and test predictions\n",
    "importlib.reload(cv)\n",
    "params = {\n",
    "    \"hidden_dim1\": 832,\n",
    "    \"hidden_dim2\": 672,\n",
    "    \"hidden_dim3\": 352,\n",
    "    \"hidden_dim4\": 288,\n",
    "    \"batch_size\": 864,\n",
    "    \"lr\": 0.0032694640869831816,\n",
    "    \"eta_min\": 0.0002853657880820916,\n",
    "    \"dropout_rate\": 0.30000000000000004,\n",
    "    \"activation\": \"ReLU\"\n",
    "}\n",
    "trainer = cv.MLPCVTrainer(**params)\n",
    "\n",
    "oof, test_preds = trainer.fit(l1_tr_df2, l1_test_df2)\n",
    "np.save(\"../artifacts/preds/l1/oof_single_16.npy\", oof)\n",
    "np.save(\"../artifacts/preds/l1/test_single_16.npy\", test_preds)"
   ]
  },
  {
   "cell_type": "code",
   "execution_count": 15,
   "id": "50b9ca75-d4bb-444a-a694-d0295bb6ac0b",
   "metadata": {},
   "outputs": [
    {
     "name": "stdout",
     "output_type": "stream",
     "text": [
      "✅ Message sent successfully.\n"
     ]
    }
   ],
   "source": [
    "te.send_telegram_message(\"MLP Training complete!\")"
   ]
  }
 ],
 "metadata": {
  "kernelspec": {
   "display_name": "torch-2.2.0",
   "language": "python",
   "name": "torch22"
  },
  "language_info": {
   "codemirror_mode": {
    "name": "ipython",
    "version": 3
   },
   "file_extension": ".py",
   "mimetype": "text/x-python",
   "name": "python",
   "nbconvert_exporter": "python",
   "pygments_lexer": "ipython3",
   "version": "3.11.13"
  }
 },
 "nbformat": 4,
 "nbformat_minor": 5
}
