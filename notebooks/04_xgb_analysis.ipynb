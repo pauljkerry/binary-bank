{
 "cells": [
  {
   "cell_type": "code",
   "execution_count": 1,
   "id": "2caae26d-677d-49f1-b911-0b8d3b60b1a1",
   "metadata": {},
   "outputs": [],
   "source": [
    "import sys\n",
    "import os\n",
    "from pathlib import Path\n",
    "from dotenv import load_dotenv\n",
    "import pandas as pd\n",
    "import numpy as np\n",
    "import importlib\n",
    "\n",
    "sys.path.append(os.path.abspath(\"..\"))\n",
    "\n",
    "import src.models.xgb.xgb_cv_trainer as cv\n",
    "import src.utils.optuna_visualizer as opv\n",
    "import src.utils.telegram as te"
   ]
  },
  {
   "cell_type": "code",
   "execution_count": 2,
   "id": "f4a31ee6-58a8-446e-88a2-470ffd93f0d2",
   "metadata": {},
   "outputs": [],
   "source": [
    "# Load data\n",
    "env_path = Path.cwd().parent / \".env\"\n",
    "load_dotenv(dotenv_path=env_path)\n",
    "url = os.environ.get(\"OPTUNA_STORAGE_URL\")\n",
    "\n",
    "tr_df1 = pd.read_parquet(\"../artifacts/features/base/tr_df1.parquet\")\n",
    "test_df1 = pd.read_parquet(\"../artifacts/features/base/test_df1.parquet\")"
   ]
  },
  {
   "cell_type": "code",
   "execution_count": null,
   "id": "9d32fd0e-84a7-4e5b-9505-7cb245aaef1a",
   "metadata": {
    "scrolled": true
   },
   "outputs": [],
   "source": [
    "# Check tuning results\n",
    "study_name = \"l1_xgb_v1\"\n",
    "\n",
    "study = opv.OptunaVisualizer(study_name, url)\n",
    "study.visualize_optimization()\n",
    "study.print_trials_table()"
   ]
  },
  {
   "cell_type": "code",
   "execution_count": null,
   "id": "6157c168-accf-434a-9722-8ce89684c2d9",
   "metadata": {
    "scrolled": true
   },
   "outputs": [],
   "source": [
    "# Create OOF and test predictions\n",
    "importlib.reload(cv)\n",
    "params = {\n",
    "    \"learning_rate\": 0.016339963844430296,\n",
    "    \"max_depth\": 12,\n",
    "    \"min_child_weight\": 47.74820951880311,\n",
    "    \"colsample_bytree\": 1.0,\n",
    "    \"subsample\": 0.7931390750752597,\n",
    "    \"reg_alpha\": 2.556308808893024,\n",
    "    \"reg_lambda\": 0.008220020184828742\n",
    "}\n",
    "\n",
    "trainer = cv.XGBCVTrainer(\n",
    "    params=params,\n",
    "    early_stopping_rounds=500\n",
    ")\n",
    "oof, test_preds = trainer.fit(tr_df1, test_df1)\n",
    "\n",
    "np.save(\"../artifacts/preds/base/oof_single_1.npy\", oof)\n",
    "np.save(\"../artifacts/preds/base/test_single_1.npy\", test_preds)"
   ]
  },
  {
   "cell_type": "code",
   "execution_count": null,
   "id": "77cc865a-c04d-4dbc-97a0-59d803ac75f7",
   "metadata": {},
   "outputs": [],
   "source": [
    "te.send_telegram_message(\"XGB Training Complete!\")"
   ]
  },
  {
   "cell_type": "code",
   "execution_count": null,
   "id": "2a01b859-c946-4718-84de-a181e6cc8bb4",
   "metadata": {
    "scrolled": true
   },
   "outputs": [],
   "source": [
    "# Full training\n",
    "params = {\n",
    "    \"learning_rate\": 0.016339963844430296,\n",
    "    \"max_depth\": 12,\n",
    "    \"min_child_weight\": 47.74820951880311,\n",
    "    \"colsample_bytree\": 1.0,\n",
    "    \"subsample\": 0.7931390750752597,\n",
    "    \"reg_alpha\": 2.556308808893024,\n",
    "    \"reg_lambda\": 0.008220020184828742\n",
    "}\n",
    "trainer = cv.XGBCVTrainer(params=params)\n",
    "trainer.full_train(tr_df1, test_df1, 1000, 1)"
   ]
  },
  {
   "cell_type": "code",
   "execution_count": null,
   "id": "6bbcb0c7-5772-4a13-9095-32ef3bebab39",
   "metadata": {},
   "outputs": [],
   "source": []
  }
 ],
 "metadata": {
  "kernelspec": {
   "display_name": "Python 3 (ipykernel)",
   "language": "python",
   "name": "python3"
  },
  "language_info": {
   "codemirror_mode": {
    "name": "ipython",
    "version": 3
   },
   "file_extension": ".py",
   "mimetype": "text/x-python",
   "name": "python",
   "nbconvert_exporter": "python",
   "pygments_lexer": "ipython3",
   "version": "3.10.18"
  }
 },
 "nbformat": 4,
 "nbformat_minor": 5
}
