{
 "cells": [
  {
   "cell_type": "code",
   "execution_count": 2,
   "id": "3a59544c-289a-4a3e-a76a-e12246170436",
   "metadata": {},
   "outputs": [],
   "source": [
    "import pandas as pd\n",
    "import sys\n",
    "import os\n",
    "import importlib\n",
    "\n",
    "sys.path.append(os.path.abspath(\"..\"))\n",
    "\n",
    "import src.pipeline.pr_v1 as pr1\n",
    "import src.pipeline.fe_v1 as fe1"
   ]
  },
  {
   "cell_type": "code",
   "execution_count": null,
   "id": "9d8ba36c-c371-4ce6-a0b3-4014a31d4d1c",
   "metadata": {
    "scrolled": true
   },
   "outputs": [],
   "source": [
    "# データを前処理\n",
    "importlib.reload(pr1)\n",
    "pr1.preprocessing()"
   ]
  },
  {
   "cell_type": "code",
   "execution_count": 3,
   "id": "de38c1cf-6455-40bf-960b-02b1139bcc13",
   "metadata": {
    "scrolled": true
   },
   "outputs": [],
   "source": [
    "# 前処理データの読み込み\n",
    "train_data1 = pd.read_parquet(\"../artifacts/prepro/train_data1.parquet\")\n",
    "test_data1 = pd.read_parquet(\"../artifacts/prepro/test_data1.parquet\")"
   ]
  },
  {
   "cell_type": "code",
   "execution_count": 12,
   "id": "590ff6e3-bfb4-443d-a957-7529d9b2a9c1",
   "metadata": {},
   "outputs": [],
   "source": [
    "# tr_df1\n",
    "importlib.reload(fe1)\n",
    "tr_df, test_df = fe1.feature_engineering(train_data1, test_data1)\n",
    "\n",
    "tr_df.to_parquet(\"../artifacts/features/base/tr_df1.parquet\", index=False)\n",
    "test_df.to_parquet(\"../artifacts/features/base/test_df1.parquet\", index=False)"
   ]
  }
 ],
 "metadata": {
  "kernelspec": {
   "display_name": "Python 3 (ipykernel)",
   "language": "python",
   "name": "python3"
  },
  "language_info": {
   "codemirror_mode": {
    "name": "ipython",
    "version": 3
   },
   "file_extension": ".py",
   "mimetype": "text/x-python",
   "name": "python",
   "nbconvert_exporter": "python",
   "pygments_lexer": "ipython3",
   "version": "3.10.18"
  }
 },
 "nbformat": 4,
 "nbformat_minor": 5
}
