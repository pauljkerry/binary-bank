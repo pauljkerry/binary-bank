{
 "cells": [
  {
   "cell_type": "code",
   "execution_count": 2,
   "id": "d720d8ad-be42-4df0-bff0-04fbb24e1c14",
   "metadata": {},
   "outputs": [],
   "source": [
    "import sys\n",
    "import os\n",
    "import numpy as np\n",
    "import pandas as pd\n",
    "from pathlib import Path\n",
    "from dotenv import load_dotenv\n",
    "import importlib\n",
    "\n",
    "sys.path.append(os.path.abspath(\"..\"))\n",
    "\n",
    "import src.models.lgbm.lgbm_cv_trainer as cv\n",
    "import src.utils.optuna_visualizer as opv\n",
    "import src.utils.telegram as te"
   ]
  },
  {
   "cell_type": "code",
   "execution_count": 4,
   "id": "34f95a03-b05e-4ba1-8ad6-26c8b8f9273a",
   "metadata": {},
   "outputs": [],
   "source": [
    "# Load data\n",
    "env_path = Path.cwd().parent / \".env\"\n",
    "load_dotenv(dotenv_path=env_path)\n",
    "url = os.environ.get(\"OPTUNA_STORAGE_URL\")\n",
    "\n",
    "tr_df1 = pd.read_parquet(\"../artifacts/features/base/tr_df1.parquet\")\n",
    "test_df1 = pd.read_parquet(\"../artifacts/features/base/test_df1.parquet\")"
   ]
  },
  {
   "cell_type": "code",
   "execution_count": null,
   "id": "0aa100b2-fc67-4670-a030-80f390e57f72",
   "metadata": {
    "scrolled": true
   },
   "outputs": [],
   "source": [
    "# Check tuning results\n",
    "study_name = \"lgbm_v1\"\n",
    "\n",
    "study = opv.OptunaVisualizer(study_name, url)\n",
    "study.visualize_optimization()\n",
    "study.print_trials_table()"
   ]
  },
  {
   "cell_type": "code",
   "execution_count": null,
   "id": "f656942a-4c4c-4dc3-a8f7-bb25a6b136d8",
   "metadata": {
    "scrolled": true
   },
   "outputs": [],
   "source": [
    "# Create OOF and test predictions\n",
    "importlib.reload(cv)\n",
    "params = {\n",
    "    \"learning_rate\": 0.02,\n",
    "    \"max_depth\": 10,\n",
    "    \"num_leaves\": 665,\n",
    "    \"min_child_samples\": 897,\n",
    "    \"min_split_gain\": 0.004136243817528799,\n",
    "    \"feature_fraction\": 0.40560189158272997,\n",
    "    \"bagging_fraction\": 0.7638109452667537,\n",
    "    \"bagging_freq\": 7,\n",
    "    \"lambda_l1\": 1.2710142539585863e-05,\n",
    "    \"lambda_l2\": 4.212122094964176e-05\n",
    "}\n",
    "\n",
    "trainer = cv.LGBMCVTrainer(\n",
    "    params=params,\n",
    "    early_stopping_rounds=500\n",
    ")\n",
    "oof, test_preds = trainer.fit(tr_df1, test_df1)\n",
    "\n",
    "np.save(\"../artifacts/preds/base/oof_single_1.npy\", oof)\n",
    "np.save(\"../artifacts/preds/base/test_single_1.npy\", test_preds)"
   ]
  },
  {
   "cell_type": "code",
   "execution_count": null,
   "id": "91bbe01d-5026-49aa-b26f-50eddf7975ec",
   "metadata": {},
   "outputs": [],
   "source": [
    "te.send_telegram_message(\"LGBM Training Complete!\")"
   ]
  },
  {
   "cell_type": "code",
   "execution_count": null,
   "id": "e067bd2e-76a4-4788-ba50-054ea325891d",
   "metadata": {},
   "outputs": [],
   "source": [
    "# Full training\n",
    "params = {\n",
    "    \"learning_rate\": 0.02,\n",
    "    \"max_depth\": 10,\n",
    "    \"num_leaves\": 665,\n",
    "    \"min_child_samples\": 897,\n",
    "    \"min_split_gain\": 0.004136243817528799,\n",
    "    \"feature_fraction\": 0.40560189158272997,\n",
    "    \"bagging_fraction\": 0.7638109452667537,\n",
    "    \"bagging_freq\": 7,\n",
    "    \"lambda_l1\": 1.2710142539585863e-05,\n",
    "    \"lambda_l2\": 4.212122094964176e-05\n",
    "}\n",
    "trainer = cv.LGBMCVTrainer(params=params)\n",
    "trainer.full_train(tr_df1, test_df1, 1000, 1)"
   ]
  }
 ],
 "metadata": {
  "kernelspec": {
   "display_name": "Python 3 (ipykernel)",
   "language": "python",
   "name": "python3"
  },
  "language_info": {
   "codemirror_mode": {
    "name": "ipython",
    "version": 3
   },
   "file_extension": ".py",
   "mimetype": "text/x-python",
   "name": "python",
   "nbconvert_exporter": "python",
   "pygments_lexer": "ipython3",
   "version": "3.10.18"
  }
 },
 "nbformat": 4,
 "nbformat_minor": 5
}
