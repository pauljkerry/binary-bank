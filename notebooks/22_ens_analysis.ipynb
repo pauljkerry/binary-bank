{
 "cells": [
  {
   "cell_type": "code",
   "execution_count": null,
   "id": "0310ea3f-39d4-4522-bfd2-303c8c76fcb5",
   "metadata": {},
   "outputs": [],
   "source": [
    "import sys\n",
    "import os\n",
    "from pathlib import Path\n",
    "from dotenv import load_dotenv\n",
    "import numpy as np\n",
    "\n",
    "sys.path.append(os.path.abspath(\"..\"))\n",
    "\n",
    "import src.utils.optuna_visualizer as opv\n",
    "import src.utils.save_ens as se\n",
    "import src.utils.create_sub as cs"
   ]
  },
  {
   "cell_type": "code",
   "execution_count": null,
   "id": "0483e9a2-ecc5-4078-a62a-31ab26efcca0",
   "metadata": {},
   "outputs": [],
   "source": [
    "# Load data\n",
    "env_path = Path.cwd().parent / \".env\"\n",
    "load_dotenv(dotenv_path=env_path)\n",
    "url = os.environ.get(\"OPTUNA_STORAGE_URL\")"
   ]
  },
  {
   "cell_type": "code",
   "execution_count": null,
   "id": "6c9d4efe-b5a7-4f62-8a0e-7875dc414dd1",
   "metadata": {
    "scrolled": true
   },
   "outputs": [],
   "source": [
    "# Check tuning results\n",
    "study_name = \"ens_v1\"\n",
    "\n",
    "study = opv.OptunaVisualizer(study_name, url)\n",
    "study.visualize_optimization()\n",
    "study.print_trials_table()"
   ]
  },
  {
   "cell_type": "code",
   "execution_count": null,
   "id": "27357a1d-aa19-4d26-8807-8b53f21fa153",
   "metadata": {
    "scrolled": true
   },
   "outputs": [],
   "source": [
    "# Save ensemble predictions in submission format \n",
    "test_single_1 = np.load(\"../artifacts/preds/l1/test_single_1.npy\")\n",
    "test_full_2 = np.load(\"../artifacts/preds/l1/test_full_2.npy\")\n",
    "\n",
    "test_preds_list = [\n",
    "    test_single_1,\n",
    "    test_full_2\n",
    "]\n",
    "\n",
    "params = {\n",
    "    \"raw_w0\": 0.6001156663499645,\n",
    "    \"raw_w1\": 0.8548725763156558,\n",
    "}\n",
    "\n",
    "se.save_ensemble_prediction(test_preds_list, params, 1)\n",
    "ens_1 = np.load(\"../artifacts/preds/ens/ens_1.npy\")\n",
    "cs.create_sub(ens_1, 1)"
   ]
  }
 ],
 "metadata": {
  "kernelspec": {
   "display_name": "torch-2.2.0",
   "language": "python",
   "name": "torch22"
  },
  "language_info": {
   "codemirror_mode": {
    "name": "ipython",
    "version": 3
   },
   "file_extension": ".py",
   "mimetype": "text/x-python",
   "name": "python",
   "nbconvert_exporter": "python",
   "pygments_lexer": "ipython3",
   "version": "3.11.13"
  }
 },
 "nbformat": 4,
 "nbformat_minor": 5
}
