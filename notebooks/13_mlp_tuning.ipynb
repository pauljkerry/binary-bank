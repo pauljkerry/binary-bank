{
 "cells": [
  {
   "cell_type": "code",
   "execution_count": 1,
   "id": "7636798d-02c3-4e61-b732-00317f9f9f32",
   "metadata": {},
   "outputs": [],
   "source": [
    "import sys\n",
    "import os\n",
    "from pathlib import Path\n",
    "from dotenv import load_dotenv\n",
    "import pandas as pd\n",
    "import optuna\n",
    "import importlib\n",
    "\n",
    "sys.path.append(os.path.abspath(\"..\"))\n",
    "\n",
    "import src.models.mlp.mlp_cv_trainer_emb as cv\n",
    "import src.models.mlp.mlp_optuna_optimizer as op\n",
    "import src.utils.telegram as te"
   ]
  },
  {
   "cell_type": "code",
   "execution_count": 2,
   "id": "a5a08409-763e-480d-ab9a-9844353171f5",
   "metadata": {},
   "outputs": [],
   "source": [
    "# Load data\n",
    "env_path = Path.cwd().parent / \".env\"\n",
    "load_dotenv(dotenv_path=env_path)\n",
    "url = os.environ.get(\"OPTUNA_STORAGE_URL\")\n",
    "\n",
    "tr_df8 = pd.read_parquet(\"../artifacts/features/base/tr_df8.parquet\")\n",
    "tr_df7 = pd.read_parquet(\"../artifacts/features/base/tr_df7.parquet\")"
   ]
  },
  {
   "cell_type": "code",
   "execution_count": null,
   "id": "bff0cb43-615a-4f9f-be31-e3c9d1064b1f",
   "metadata": {
    "scrolled": true
   },
   "outputs": [
    {
     "name": "stderr",
     "output_type": "stream",
     "text": [
      "[I 2025-08-03 04:14:14,631] A new study created in RDB with name: mlp_v6\n"
     ]
    },
    {
     "data": {
      "application/vnd.jupyter.widget-view+json": {
       "model_id": "4df02de473624c528c2c22d049b157ec",
       "version_major": 2,
       "version_minor": 0
      },
      "text/plain": [
       "  0%|          | 0/100 [00:00<?, ?it/s]"
      ]
     },
     "metadata": {},
     "output_type": "display_data"
    },
    {
     "name": "stdout",
     "output_type": "stream",
     "text": [
      "Epoch 1: Train Logloss = 0.18210, Val Logloss = 0.18229\n",
      "New best model saved at epoch 1, Logloss: 0.18229\n",
      "Epoch 2: Train Logloss = 0.17423, Val Logloss = 0.17433\n",
      "New best model saved at epoch 2, Logloss: 0.17433\n",
      "Epoch 3: Train Logloss = 0.16981, Val Logloss = 0.16993\n",
      "New best model saved at epoch 3, Logloss: 0.16993\n",
      "Epoch 4: Train Logloss = 0.16784, Val Logloss = 0.16761\n",
      "New best model saved at epoch 4, Logloss: 0.16761\n",
      "Epoch 5: Train Logloss = 0.16466, Val Logloss = 0.16429\n",
      "New best model saved at epoch 5, Logloss: 0.16429\n",
      "Epoch 6: Train Logloss = 0.16360, Val Logloss = 0.16341\n",
      "New best model saved at epoch 6, Logloss: 0.16341\n",
      "Epoch 7: Train Logloss = 0.16167, Val Logloss = 0.16109\n",
      "New best model saved at epoch 7, Logloss: 0.16109\n",
      "Epoch 8: Train Logloss = 0.16034, Val Logloss = 0.15990\n",
      "New best model saved at epoch 8, Logloss: 0.15990\n"
     ]
    }
   ],
   "source": [
    "# Tuning\n",
    "importlib.reload(cv)\n",
    "importlib.reload(op)\n",
    "objective = op.create_objective(\n",
    "    tr_df8,\n",
    "    early_stopping_rounds=10,\n",
    "    min_epochs=10,\n",
    ")\n",
    "\n",
    "op.run_optuna_search(\n",
    "    objective,\n",
    "    n_trials=100,\n",
    "    direction=\"minimize\",\n",
    "    study_name=\"mlp_v6\",\n",
    "    storage=url,\n",
    "    sampler=optuna.samplers.TPESampler(n_startup_trials=40, seed=42),\n",
    ")\n",
    "te.send_telegram_message(\"MLP Training Complete!\")"
   ]
  }
 ],
 "metadata": {
  "kernelspec": {
   "display_name": "torch-2.2.0",
   "language": "python",
   "name": "torch22"
  },
  "language_info": {
   "codemirror_mode": {
    "name": "ipython",
    "version": 3
   },
   "file_extension": ".py",
   "mimetype": "text/x-python",
   "name": "python",
   "nbconvert_exporter": "python",
   "pygments_lexer": "ipython3",
   "version": "3.11.13"
  }
 },
 "nbformat": 4,
 "nbformat_minor": 5
}
