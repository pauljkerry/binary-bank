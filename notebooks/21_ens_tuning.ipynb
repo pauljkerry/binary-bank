{
 "cells": [
  {
   "cell_type": "code",
   "execution_count": null,
   "id": "8605060c-2d72-4948-9492-174d59799462",
   "metadata": {},
   "outputs": [],
   "source": [
    "import sys\n",
    "import os\n",
    "from pathlib import Path\n",
    "from dotenv import load_dotenv\n",
    "import numpy as np\n",
    "import optuna\n",
    "import importlib\n",
    "\n",
    "sys.path.append(os.path.abspath(\"..\"))\n",
    "\n",
    "import src.utils.weight_optimizer as wo"
   ]
  },
  {
   "cell_type": "code",
   "execution_count": null,
   "id": "6c44b144-6b90-4774-89b8-5da4edec1791",
   "metadata": {},
   "outputs": [],
   "source": [
    "# Load data\n",
    "env_path = Path.cwd().parent / \".env\"\n",
    "load_dotenv(dotenv_path=env_path)\n",
    "url = os.environ.get(\"OPTUNA_STORAGE_URL\")\n",
    "\n",
    "# MLP\n",
    "oof_single_1 = np.load(\"../artifacts/preds/l1/oof_single_1.npy\")\n",
    "\n",
    "# XGB\n",
    "oof_single_2 = np.load(\"../artifacts/preds/l1/oof_single_2.npy\")\n",
    "\n",
    "# CB\n",
    "oof_single_3 = np.load(\"../artifacts/preds/l1/oof_single_3.npy\")\n",
    "\n",
    "# LGBM\n",
    "oof_single_4 = np.load(\"../artifacts/preds/l1/oof_single_4.npy\")"
   ]
  },
  {
   "cell_type": "code",
   "execution_count": null,
   "id": "3c637356-ca30-4540-80bc-51b1fe554e92",
   "metadata": {
    "scrolled": true
   },
   "outputs": [],
   "source": [
    "# Tuning\n",
    "list_v1 = [\n",
    "    oof_single_1,   # MLP\n",
    "    oof_single_2,   # XGB\n",
    "    oof_single_3,   # CB\n",
    "    oof_single_4    # LGBM\n",
    "]\n",
    "importlib.reload(wo)\n",
    "objective = wo.create_objective(list_v1)\n",
    "\n",
    "study = wo.run_optuna_search(\n",
    "    objective,\n",
    "    n_trials=500,\n",
    "    n_jobs=1,\n",
    "    direction=\"minimize\",\n",
    "    study_name=\"ens_v1\",\n",
    "    storage=url,\n",
    "    sampler=optuna.samplers.TPESampler(\n",
    "        n_startup_trials=100,\n",
    "        seed=42)\n",
    ")"
   ]
  }
 ],
 "metadata": {
  "kernelspec": {
   "display_name": "Python 3 (ipykernel)",
   "language": "python",
   "name": "python3"
  },
  "language_info": {
   "codemirror_mode": {
    "name": "ipython",
    "version": 3
   },
   "file_extension": ".py",
   "mimetype": "text/x-python",
   "name": "python",
   "nbconvert_exporter": "python",
   "pygments_lexer": "ipython3",
   "version": "3.10.18"
  }
 },
 "nbformat": 4,
 "nbformat_minor": 5
}
