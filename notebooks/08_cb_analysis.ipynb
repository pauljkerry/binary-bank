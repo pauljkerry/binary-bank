{
 "cells": [
  {
   "cell_type": "code",
   "execution_count": 3,
   "id": "75d16977-adcb-458c-b9af-fcdaad5620bc",
   "metadata": {},
   "outputs": [],
   "source": [
    "import sys\n",
    "import os\n",
    "from pathlib import Path\n",
    "from dotenv import load_dotenv\n",
    "import pandas as pd\n",
    "import numpy as np\n",
    "import importlib\n",
    "\n",
    "sys.path.append(os.path.abspath(\"..\"))\n",
    "\n",
    "import src.models.cb.cb_cv_trainer as cv\n",
    "import src.utils.optuna_visualizer as opv\n",
    "import src.utils.telegram as te"
   ]
  },
  {
   "cell_type": "code",
   "execution_count": 4,
   "id": "e73e4bf3-857e-4384-891e-25c9484613d5",
   "metadata": {},
   "outputs": [],
   "source": [
    "# Load data\n",
    "env_path = Path.cwd().parent / \".env\"\n",
    "load_dotenv(dotenv_path=env_path)\n",
    "url = os.environ.get(\"OPTUNA_STORAGE_URL\")\n",
    "\n",
    "tr_df1 = pd.read_parquet(\"../artifacts/features/base/tr_df1.parquet\")\n",
    "test_df1 = pd.read_parquet(\"../artifacts/features/base/test_df1.parquet\")"
   ]
  },
  {
   "cell_type": "code",
   "execution_count": null,
   "id": "87d85ff2-0234-47c9-b582-0fcffafb45f3",
   "metadata": {
    "scrolled": true
   },
   "outputs": [],
   "source": [
    "# Check tuning results\n",
    "study_name = \"cb_v1\"\n",
    "\n",
    "study = opv.OptunaVisualizer(study_name, url)\n",
    "study.visualize_optimization()\n",
    "study.print_trials_table()"
   ]
  },
  {
   "cell_type": "code",
   "execution_count": null,
   "id": "51093e18-734f-4152-8e1f-4786857ae3e2",
   "metadata": {
    "scrolled": true
   },
   "outputs": [],
   "source": [
    "# Create OOF and test predictions\n",
    "importlib.reload(cv)\n",
    "params = {\n",
    "    \"learning_rate\": 0.02,\n",
    "    \"depth\": 12,\n",
    "    \"min_data_in_leaf\": 29.394632044566997,\n",
    "    \"l2_leaf_reg\": 19.697768782973583,\n",
    "    \"bagging_temperature\": 0.7908265179488759,\n",
    "    \"random_strength\": 68,\n",
    "    \"border_count\": 206,\n",
    "    \"task_type\": \"CPU\"\n",
    "}\n",
    "\n",
    "trainer = cv.CBCVTrainer(\n",
    "    params=params,\n",
    "    early_stopping_rounds=500)\n",
    "oof, test_preds = trainer.fit(tr_df1, test_df1)\n",
    "np.save(\"../artifacts/preds/base/oof_single_1.npy\", oof)\n",
    "np.save(\"../artifacts/preds/base/test_single_1.npy\", test_preds)"
   ]
  },
  {
   "cell_type": "code",
   "execution_count": 21,
   "id": "0554e8d9-3a4d-4aa8-bf37-6d19a4cd1725",
   "metadata": {},
   "outputs": [
    {
     "name": "stdout",
     "output_type": "stream",
     "text": [
      "✅ Message sent successfully.\n"
     ]
    }
   ],
   "source": [
    "te.send_telegram_message(\"CB Training complete!\")"
   ]
  },
  {
   "cell_type": "code",
   "execution_count": null,
   "id": "50270c65-28c9-4e3b-ab09-10c2946a171c",
   "metadata": {
    "scrolled": true
   },
   "outputs": [],
   "source": [
    "# Full training\n",
    "params = {\n",
    "    \"learning_rate\": 0.02,\n",
    "    \"depth\": 12,\n",
    "    \"min_data_in_leaf\": 29.394632044566997,\n",
    "    \"l2_leaf_reg\": 19.697768782973583,\n",
    "    \"bagging_temperature\": 0.7908265179488759,\n",
    "    \"random_strength\": 68,\n",
    "    \"border_count\": 206,\n",
    "    \"task_type\": \"CPU\",\n",
    "    \"iterations\": int(577.4 * 1.25)\n",
    "}\n",
    "trainer = cv.CBCVTrainer(params=params)\n",
    "trainer.full_train(tr_df1, test_df1, 1)"
   ]
  }
 ],
 "metadata": {
  "kernelspec": {
   "display_name": "rapids-23.12",
   "language": "python",
   "name": "rapids-23.12"
  },
  "language_info": {
   "codemirror_mode": {
    "name": "ipython",
    "version": 3
   },
   "file_extension": ".py",
   "mimetype": "text/x-python",
   "name": "python",
   "nbconvert_exporter": "python",
   "pygments_lexer": "ipython3",
   "version": "3.10.18"
  }
 },
 "nbformat": 4,
 "nbformat_minor": 5
}
