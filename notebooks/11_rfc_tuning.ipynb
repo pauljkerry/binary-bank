{
 "cells": [
  {
   "cell_type": "code",
   "execution_count": 1,
   "id": "7636798d-02c3-4e61-b732-00317f9f9f32",
   "metadata": {},
   "outputs": [],
   "source": [
    "import sys\n",
    "import os\n",
    "from pathlib import Path\n",
    "from dotenv import load_dotenv\n",
    "import cudf\n",
    "import optuna\n",
    "import importlib\n",
    "\n",
    "sys.path.append(os.path.abspath(\"..\"))\n",
    "\n",
    "import src.models.rfc.rfc_cv_trainer as cv\n",
    "import src.models.rfc.rfc_optuna_optimizer as op\n",
    "import src.utils.telegram as te"
   ]
  },
  {
   "cell_type": "code",
   "execution_count": 2,
   "id": "a5a08409-763e-480d-ab9a-9844353171f5",
   "metadata": {},
   "outputs": [],
   "source": [
    "# load data\n",
    "env_path = Path.cwd().parent / \".env\"\n",
    "load_dotenv(dotenv_path=env_path)\n",
    "url = os.environ.get(\"OPTUNA_STORAGE_URL\")\n",
    "\n",
    "tr_df1 = cudf.read_parquet(\"../artifacts/features/base/tr_df1.parquet\").astype(\"float32\")"
   ]
  },
  {
   "cell_type": "code",
   "execution_count": 6,
   "id": "bff0cb43-615a-4f9f-be31-e3c9d1064b1f",
   "metadata": {
    "scrolled": true
   },
   "outputs": [
    {
     "name": "stderr",
     "output_type": "stream",
     "text": [
      "[I 2025-08-01 21:31:44,182] Using an existing study with name 'rfc_v1' instead of creating a new one.\n"
     ]
    },
    {
     "data": {
      "application/vnd.jupyter.widget-view+json": {
       "model_id": "93778d1da61c4f338707a114e8647bc1",
       "version_major": 2,
       "version_minor": 0
      },
      "text/plain": [
       "  0%|          | 0/30 [00:00<?, ?it/s]"
      ]
     },
     "metadata": {},
     "output_type": "display_data"
    },
    {
     "name": "stdout",
     "output_type": "stream",
     "text": [
      "Training time: 00:00:04\n",
      "Valid Logloss: 0.15790\n",
      "[I 2025-08-01 21:31:50,200] Trial 90 finished with value: 0.1579044052283344 and parameters: {'n_estimators': 112, 'max_depth': 43}. Best is trial 51 with value: 0.15767291749877244.\n",
      "Training time: 00:00:04\n",
      "Valid Logloss: 0.16003\n",
      "[I 2025-08-01 21:31:55,002] Trial 91 finished with value: 0.16002891161315924 and parameters: {'n_estimators': 112, 'max_depth': 51}. Best is trial 51 with value: 0.15767291749877244.\n",
      "Training time: 00:00:03\n",
      "Valid Logloss: 0.15748\n",
      "[I 2025-08-01 21:31:58,597] Trial 92 finished with value: 0.15747756387478812 and parameters: {'n_estimators': 107, 'max_depth': 22}. Best is trial 92 with value: 0.15747756387478812.\n",
      "Training time: 00:00:03\n",
      "Valid Logloss: 0.15784\n",
      "[I 2025-08-01 21:32:02,309] Trial 93 finished with value: 0.1578412680839151 and parameters: {'n_estimators': 105, 'max_depth': 30}. Best is trial 92 with value: 0.15747756387478812.\n",
      "Training time: 00:00:03\n",
      "Valid Logloss: 0.15855\n",
      "[I 2025-08-01 21:32:05,646] Trial 94 finished with value: 0.1585504296929788 and parameters: {'n_estimators': 104, 'max_depth': 23}. Best is trial 92 with value: 0.15747756387478812.\n",
      "Training time: 00:00:04\n",
      "Valid Logloss: 0.15832\n",
      "[I 2025-08-01 21:32:10,035] Trial 95 finished with value: 0.1583174642973536 and parameters: {'n_estimators': 104, 'max_depth': 31}. Best is trial 92 with value: 0.15747756387478812.\n",
      "Training time: 00:00:03\n",
      "Valid Logloss: 0.16034\n",
      "[I 2025-08-01 21:32:14,028] Trial 96 finished with value: 0.1603381792053073 and parameters: {'n_estimators': 112, 'max_depth': 30}. Best is trial 92 with value: 0.15747756387478812.\n",
      "Training time: 00:00:03\n",
      "Valid Logloss: 0.15789\n",
      "[I 2025-08-01 21:32:17,928] Trial 97 finished with value: 0.15788556256935496 and parameters: {'n_estimators': 119, 'max_depth': 22}. Best is trial 92 with value: 0.15747756387478812.\n",
      "Training time: 00:00:02\n",
      "Valid Logloss: 0.17983\n",
      "[I 2025-08-01 21:32:20,480] Trial 98 finished with value: 0.17983485949680172 and parameters: {'n_estimators': 129, 'max_depth': 9}. Best is trial 92 with value: 0.15747756387478812.\n",
      "Training time: 00:00:03\n",
      "Valid Logloss: 0.15873\n",
      "[I 2025-08-01 21:32:24,906] Trial 99 finished with value: 0.15872633984121814 and parameters: {'n_estimators': 117, 'max_depth': 35}. Best is trial 92 with value: 0.15747756387478812.\n",
      "Training time: 00:00:03\n",
      "Valid Logloss: 0.15834\n",
      "[I 2025-08-01 21:32:28,392] Trial 100 finished with value: 0.15833657578850074 and parameters: {'n_estimators': 104, 'max_depth': 22}. Best is trial 92 with value: 0.15747756387478812.\n",
      "Training time: 00:00:03\n",
      "Valid Logloss: 0.15866\n",
      "[I 2025-08-01 21:32:32,780] Trial 101 finished with value: 0.15865764031324373 and parameters: {'n_estimators': 121, 'max_depth': 27}. Best is trial 92 with value: 0.15747756387478812.\n",
      "Training time: 00:00:02\n",
      "Valid Logloss: 0.16517\n",
      "[I 2025-08-01 21:32:35,460] Trial 102 finished with value: 0.1651732190951003 and parameters: {'n_estimators': 109, 'max_depth': 13}. Best is trial 92 with value: 0.15747756387478812.\n",
      "Training time: 00:00:04\n",
      "Valid Logloss: 0.15876\n",
      "[I 2025-08-01 21:32:39,884] Trial 103 finished with value: 0.15876467466220404 and parameters: {'n_estimators': 114, 'max_depth': 22}. Best is trial 92 with value: 0.15747756387478812.\n",
      "Training time: 00:00:03\n",
      "Valid Logloss: 0.15813\n",
      "[I 2025-08-01 21:32:43,597] Trial 104 finished with value: 0.15812693217342916 and parameters: {'n_estimators': 107, 'max_depth': 25}. Best is trial 92 with value: 0.15747756387478812.\n",
      "Training time: 00:00:03\n",
      "Valid Logloss: 0.16238\n",
      "[I 2025-08-01 21:32:47,260] Trial 105 finished with value: 0.1623843843968318 and parameters: {'n_estimators': 150, 'max_depth': 14}. Best is trial 92 with value: 0.15747756387478812.\n",
      "Training time: 00:00:03\n",
      "Valid Logloss: 0.15711\n",
      "[I 2025-08-01 21:32:50,996] Trial 106 finished with value: 0.15710736553402493 and parameters: {'n_estimators': 122, 'max_depth': 21}. Best is trial 106 with value: 0.15710736553402493.\n",
      "Training time: 00:00:03\n",
      "Valid Logloss: 0.15825\n",
      "[I 2025-08-01 21:32:54,796] Trial 107 finished with value: 0.15825450103018954 and parameters: {'n_estimators': 126, 'max_depth': 21}. Best is trial 106 with value: 0.15710736553402493.\n",
      "Training time: 00:00:03\n",
      "Valid Logloss: 0.15827\n",
      "[I 2025-08-01 21:32:59,205] Trial 108 finished with value: 0.158273977138689 and parameters: {'n_estimators': 123, 'max_depth': 28}. Best is trial 106 with value: 0.15710736553402493.\n",
      "Training time: 00:00:04\n",
      "Valid Logloss: 0.15792\n",
      "[I 2025-08-01 21:33:04,050] Trial 109 finished with value: 0.1579165288855265 and parameters: {'n_estimators': 131, 'max_depth': 40}. Best is trial 106 with value: 0.15710736553402493.\n",
      "Training time: 00:00:04\n",
      "Valid Logloss: 0.15896\n",
      "[I 2025-08-01 21:33:09,124] Trial 110 finished with value: 0.15896245710150084 and parameters: {'n_estimators': 130, 'max_depth': 42}. Best is trial 106 with value: 0.15710736553402493.\n",
      "Training time: 00:00:04\n",
      "Valid Logloss: 0.15765\n",
      "[I 2025-08-01 21:33:14,595] Trial 111 finished with value: 0.15764866526246596 and parameters: {'n_estimators': 136, 'max_depth': 48}. Best is trial 106 with value: 0.15710736553402493.\n",
      "Training time: 00:00:04\n",
      "Valid Logloss: 0.15791\n",
      "[I 2025-08-01 21:33:19,885] Trial 112 finished with value: 0.15791339808987215 and parameters: {'n_estimators': 140, 'max_depth': 47}. Best is trial 106 with value: 0.15710736553402493.\n",
      "Training time: 00:00:04\n",
      "Valid Logloss: 0.15733\n",
      "[I 2025-08-01 21:33:25,889] Trial 113 finished with value: 0.15733185406516836 and parameters: {'n_estimators': 137, 'max_depth': 49}. Best is trial 106 with value: 0.15710736553402493.\n",
      "Training time: 00:00:05\n",
      "Valid Logloss: 0.15751\n",
      "[I 2025-08-01 21:33:32,819] Trial 114 finished with value: 0.15751047492673 and parameters: {'n_estimators': 139, 'max_depth': 47}. Best is trial 106 with value: 0.15710736553402493.\n",
      "Training time: 00:00:04\n",
      "Valid Logloss: 0.15848\n",
      "[I 2025-08-01 21:33:39,261] Trial 115 finished with value: 0.15847641731899137 and parameters: {'n_estimators': 138, 'max_depth': 49}. Best is trial 106 with value: 0.15710736553402493.\n",
      "Training time: 00:00:05\n",
      "Valid Logloss: 0.15766\n",
      "[I 2025-08-01 21:33:45,429] Trial 116 finished with value: 0.15765676999203532 and parameters: {'n_estimators': 141, 'max_depth': 47}. Best is trial 106 with value: 0.15710736553402493.\n",
      "Training time: 00:00:04\n",
      "Valid Logloss: 0.15807\n",
      "[I 2025-08-01 21:33:50,512] Trial 117 finished with value: 0.15806693224362042 and parameters: {'n_estimators': 142, 'max_depth': 54}. Best is trial 106 with value: 0.15710736553402493.\n",
      "Training time: 00:00:04\n",
      "Valid Logloss: 0.15904\n",
      "[I 2025-08-01 21:33:55,376] Trial 118 finished with value: 0.15904449186594094 and parameters: {'n_estimators': 134, 'max_depth': 50}. Best is trial 106 with value: 0.15710736553402493.\n",
      "Training time: 00:00:04\n",
      "Valid Logloss: 0.15792\n",
      "[I 2025-08-01 21:34:00,681] Trial 119 finished with value: 0.15792295907413584 and parameters: {'n_estimators': 146, 'max_depth': 56}. Best is trial 106 with value: 0.15710736553402493.\n",
      "✅ Message sent successfully.\n"
     ]
    }
   ],
   "source": [
    "# Tuning\n",
    "importlib.reload(cv)\n",
    "importlib.reload(op)\n",
    "objective = op.create_objective(tr_df1)\n",
    "\n",
    "op.run_optuna_search(\n",
    "    objective,\n",
    "    n_trials=30,\n",
    "    direction=\"minimize\",\n",
    "    study_name=\"rfc_v1\",\n",
    "    storage=url,\n",
    "    sampler=optuna.samplers.TPESampler(\n",
    "        n_startup_trials=20, seed=42)\n",
    ")\n",
    "te.send_telegram_message(\"RFC Training Complete!\")"
   ]
  }
 ],
 "metadata": {
  "kernelspec": {
   "display_name": "rapids-23.12",
   "language": "python",
   "name": "rapids-23.12"
  },
  "language_info": {
   "codemirror_mode": {
    "name": "ipython",
    "version": 3
   },
   "file_extension": ".py",
   "mimetype": "text/x-python",
   "name": "python",
   "nbconvert_exporter": "python",
   "pygments_lexer": "ipython3",
   "version": "3.10.18"
  }
 },
 "nbformat": 4,
 "nbformat_minor": 5
}
