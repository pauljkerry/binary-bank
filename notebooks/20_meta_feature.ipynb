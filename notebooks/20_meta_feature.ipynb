{
 "cells": [
  {
   "cell_type": "code",
   "execution_count": null,
   "id": "2839152f-781f-40bc-b3fb-c08904f3b8b1",
   "metadata": {},
   "outputs": [],
   "source": [
    "import pandas as pd\n",
    "import numpy as np\n",
    "import sys\n",
    "import os\n",
    "import importlib\n",
    "\n",
    "sys.path.append(os.path.abspath(\"..\"))\n",
    "\n",
    "import src.utils.eda as eda\n",
    "import src.utils.create_meta_features as cmf"
   ]
  },
  {
   "cell_type": "code",
   "execution_count": null,
   "id": "76b53697-42e3-41a5-8953-aedd5deacfa9",
   "metadata": {},
   "outputs": [],
   "source": [
    "# l1_tr_df1\n",
    "tr_df, test_df = cmf.create_meta_features([1], \"base\", scale=True)\n",
    "tr_df.to_parquet(\"../artifacts/features/l1/l1_tr_df1.parquet\", index=False)\n",
    "test_df.to_parquet(\"../artifacts/features/l1/l1_test_df1.parquet\", index=False)"
   ]
  },
  {
   "cell_type": "code",
   "execution_count": null,
   "id": "6f6aad40-6bae-44ef-8f6b-777466ee1bb1",
   "metadata": {},
   "outputs": [],
   "source": [
    "# Check correlation between prediction outputs \n",
    "# XGB, MLP\n",
    "oof1 = np.load(\"../artifacts/preds/base/oof_single_1.npy\")\n",
    "oof2 = np.load(\"../artifacts/preds/base/oof_single_2.npy\")\n",
    "\n",
    "residual_array = np.stack([oof1, oof2], axis=1)\n",
    "\n",
    "residual_df = pd.DataFrame(\n",
    "    residual_array,\n",
    "    columns=[\"XGB\", \"MLP\"])\n",
    "\n",
    "eda.show_corr_heatmap(residual_df)"
   ]
  }
 ],
 "metadata": {
  "kernelspec": {
   "display_name": "rapids-23.12",
   "language": "python",
   "name": "rapids-23.12"
  },
  "language_info": {
   "codemirror_mode": {
    "name": "ipython",
    "version": 3
   },
   "file_extension": ".py",
   "mimetype": "text/x-python",
   "name": "python",
   "nbconvert_exporter": "python",
   "pygments_lexer": "ipython3",
   "version": "3.10.18"
  }
 },
 "nbformat": 4,
 "nbformat_minor": 5
}
