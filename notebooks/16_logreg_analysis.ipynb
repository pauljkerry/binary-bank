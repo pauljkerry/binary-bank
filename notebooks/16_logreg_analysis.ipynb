{
 "cells": [
  {
   "cell_type": "code",
   "execution_count": null,
   "id": "0310ea3f-39d4-4522-bfd2-303c8c76fcb5",
   "metadata": {},
   "outputs": [],
   "source": [
    "import sys\n",
    "import os\n",
    "from pathlib import Path\n",
    "from dotenv import load_dotenv\n",
    "import cudf\n",
    "import numpy as np\n",
    "import importlib\n",
    "\n",
    "sys.path.append(os.path.abspath(\"..\"))\n",
    "\n",
    "import src.models.logreg.logreg_cv_trainer as cv\n",
    "import src.utils.optuna_visualizer as opv\n",
    "import src.utils.telegram as te"
   ]
  },
  {
   "cell_type": "code",
   "execution_count": null,
   "id": "0483e9a2-ecc5-4078-a62a-31ab26efcca0",
   "metadata": {},
   "outputs": [],
   "source": [
    "# Load data\n",
    "env_path = Path.cwd().parent / \".env\"\n",
    "load_dotenv(dotenv_path=env_path)\n",
    "url = os.environ.get(\"OPTUNA_STORAGE_URL\")\n",
    "\n",
    "tr_df1 = cudf.read_parquet(\"../artifacts/features/base/tr_df1.parquet\")\n",
    "test_df1 = cudf.read_parquet(\"../artifacts/features/base/test_df1.parquet\")"
   ]
  },
  {
   "cell_type": "code",
   "execution_count": null,
   "id": "6c9d4efe-b5a7-4f62-8a0e-7875dc414dd1",
   "metadata": {
    "scrolled": true
   },
   "outputs": [],
   "source": [
    "# Check tuning results\n",
    "study_name = \"logreg_v1\"\n",
    "\n",
    "study = opv.OptunaVisualizer(study_name, url)\n",
    "study.visualize_optimization()\n",
    "study.print_trials_table()"
   ]
  },
  {
   "cell_type": "code",
   "execution_count": null,
   "id": "77c5477e-add7-4a74-b5e5-21690092b8f7",
   "metadata": {
    "scrolled": true
   },
   "outputs": [],
   "source": [
    "# Create OOF and test predictions\n",
    "importlib.reload(cv)\n",
    "params = {\n",
    "    \"C\": 0.2131225478825375\n",
    "}\n",
    "trainer = cv.LogRegCVTrainer(params=params)\n",
    "oof, test_preds = trainer.fit(tr_df1, test_df1)\n",
    "np.save(\"../artifacts/preds/base/oof_single_1.npy\", oof)\n",
    "np.save(\"../artifacts/preds/base/test_single_1.npy\", test_preds)"
   ]
  },
  {
   "cell_type": "code",
   "execution_count": null,
   "id": "ea96d8de-5096-49b0-a9c9-6e77e312a948",
   "metadata": {},
   "outputs": [],
   "source": [
    "te.send_telegram_message(\"LogReg Training Complete!\")"
   ]
  }
 ],
 "metadata": {
  "kernelspec": {
   "display_name": "rapids-23.12",
   "language": "python",
   "name": "rapids-23.12"
  },
  "language_info": {
   "codemirror_mode": {
    "name": "ipython",
    "version": 3
   },
   "file_extension": ".py",
   "mimetype": "text/x-python",
   "name": "python",
   "nbconvert_exporter": "python",
   "pygments_lexer": "ipython3",
   "version": "3.10.18"
  }
 },
 "nbformat": 4,
 "nbformat_minor": 5
}
