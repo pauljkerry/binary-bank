{
 "cells": [
  {
   "cell_type": "code",
   "execution_count": 1,
   "id": "2cce5dde-4954-471c-9042-ba6a98cf8381",
   "metadata": {},
   "outputs": [],
   "source": [
    "import sys\n",
    "import os\n",
    "from pathlib import Path\n",
    "from dotenv import load_dotenv\n",
    "import pandas as pd\n",
    "import optuna\n",
    "import importlib\n",
    "\n",
    "sys.path.append(os.path.abspath(\"..\"))\n",
    "\n",
    "import src.models.xgb.xgb_cv_trainer as cv\n",
    "import src.models.xgb.xgb_optuna_optimizer as op\n",
    "import src.utils.telegram as te"
   ]
  },
  {
   "cell_type": "code",
   "execution_count": 2,
   "id": "9a5396e1-efff-4435-be07-3766456e6c27",
   "metadata": {},
   "outputs": [],
   "source": [
    "# Load data\n",
    "env_path = Path.cwd().parent / \".env\"\n",
    "load_dotenv(dotenv_path=env_path)\n",
    "url = os.environ.get(\"OPTUNA_STORAGE_URL\")\n",
    "\n",
    "tr_df1 = pd.read_parquet(\"../artifacts/features/base/tr_df1.parquet\")\n",
    "tr_df3 = pd.read_parquet(\"../artifacts/features/base/tr_df3.parquet\")"
   ]
  },
  {
   "cell_type": "code",
   "execution_count": null,
   "id": "473699da-b224-465f-9ab6-525a9e67d60a",
   "metadata": {
    "scrolled": true
   },
   "outputs": [
    {
     "name": "stderr",
     "output_type": "stream",
     "text": [
      "[I 2025-08-03 06:05:36,707] Using an existing study with name 'xgb_v2' instead of creating a new one.\n"
     ]
    },
    {
     "data": {
      "application/vnd.jupyter.widget-view+json": {
       "model_id": "3356478b7fa242b9b149d428940e4118",
       "version_major": 2,
       "version_minor": 0
      },
      "text/plain": [
       "  0%|          | 0/1 [00:00<?, ?it/s]"
      ]
     },
     "metadata": {},
     "output_type": "display_data"
    },
    {
     "name": "stdout",
     "output_type": "stream",
     "text": [
      "[0]\ttrain-logloss:0.36272\teval-logloss:0.36273\n",
      "[100]\ttrain-logloss:0.21885\teval-logloss:0.21934\n",
      "[200]\ttrain-logloss:0.17946\teval-logloss:0.18070\n",
      "[300]\ttrain-logloss:0.16254\teval-logloss:0.16448\n",
      "[400]\ttrain-logloss:0.15424\teval-logloss:0.15684\n",
      "[500]\ttrain-logloss:0.14930\teval-logloss:0.15251\n",
      "[600]\ttrain-logloss:0.14608\teval-logloss:0.14992\n",
      "[700]\ttrain-logloss:0.14334\teval-logloss:0.14782\n",
      "[800]\ttrain-logloss:0.14136\teval-logloss:0.14643\n",
      "[900]\ttrain-logloss:0.13986\teval-logloss:0.14547\n",
      "[1000]\ttrain-logloss:0.13843\teval-logloss:0.14459\n",
      "[1100]\ttrain-logloss:0.13728\teval-logloss:0.14397\n",
      "[1200]\ttrain-logloss:0.13629\teval-logloss:0.14350\n",
      "[1300]\ttrain-logloss:0.13545\teval-logloss:0.14313\n",
      "[1400]\ttrain-logloss:0.13461\teval-logloss:0.14280\n",
      "[1500]\ttrain-logloss:0.13376\teval-logloss:0.14246\n",
      "[1600]\ttrain-logloss:0.13305\teval-logloss:0.14221\n",
      "[1700]\ttrain-logloss:0.13234\teval-logloss:0.14199\n",
      "[1800]\ttrain-logloss:0.13165\teval-logloss:0.14178\n",
      "[1900]\ttrain-logloss:0.13098\teval-logloss:0.14157\n"
     ]
    }
   ],
   "source": [
    "# Tuning\n",
    "importlib.reload(cv)\n",
    "importlib.reload(op)\n",
    "objective = op.create_objective(\n",
    "    tr_df1,\n",
    "    early_stopping_rounds=200,\n",
    "    tree_method=\"gpu_hist\",\n",
    "    n_jobs=10\n",
    ")\n",
    "\n",
    "op.run_optuna_search(\n",
    "    objective,\n",
    "    n_trials=1,\n",
    "    n_jobs=1,\n",
    "    direction=\"minimize\",\n",
    "    study_name=\"xgb_v2\",\n",
    "    storage=url,\n",
    "    sampler=optuna.samplers.TPESampler(\n",
    "        n_startup_trials=20, seed=42)\n",
    ")\n",
    "te.send_telegram_message(\"XGB Training Complete!\")"
   ]
  }
 ],
 "metadata": {
  "kernelspec": {
   "display_name": "rapids-23.12",
   "language": "python",
   "name": "rapids-23.12"
  },
  "language_info": {
   "codemirror_mode": {
    "name": "ipython",
    "version": 3
   },
   "file_extension": ".py",
   "mimetype": "text/x-python",
   "name": "python",
   "nbconvert_exporter": "python",
   "pygments_lexer": "ipython3",
   "version": "3.10.18"
  }
 },
 "nbformat": 4,
 "nbformat_minor": 5
}
