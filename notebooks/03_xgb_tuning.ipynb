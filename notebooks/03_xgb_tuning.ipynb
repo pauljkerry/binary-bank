{
 "cells": [
  {
   "cell_type": "code",
   "execution_count": null,
   "id": "2cce5dde-4954-471c-9042-ba6a98cf8381",
   "metadata": {},
   "outputs": [],
   "source": [
    "import sys\n",
    "import os\n",
    "from pathlib import Path\n",
    "from dotenv import load_dotenv\n",
    "import pandas as pd\n",
    "import optuna\n",
    "import importlib\n",
    "\n",
    "sys.path.append(os.path.abspath(\"..\"))\n",
    "\n",
    "import src.models.xgb.xgb_cv_trainer as cv\n",
    "import src.models.xgb.xgb_optuna_optimizer as op\n",
    "import src.utils.telegram as te"
   ]
  },
  {
   "cell_type": "code",
   "execution_count": null,
   "id": "9a5396e1-efff-4435-be07-3766456e6c27",
   "metadata": {},
   "outputs": [],
   "source": [
    "# Load data\n",
    "env_path = Path.cwd().parent / \".env\"\n",
    "load_dotenv(dotenv_path=env_path)\n",
    "url = os.environ.get(\"OPTUNA_STORAGE_URL\")\n",
    "\n",
    "tr_df1 = pd.read_parquet(\"../artifacts/features/base/tr_df1.parquet\")"
   ]
  },
  {
   "cell_type": "code",
   "execution_count": null,
   "id": "473699da-b224-465f-9ab6-525a9e67d60a",
   "metadata": {
    "scrolled": true
   },
   "outputs": [],
   "source": [
    "# Tuning\n",
    "importlib.reload(cv)\n",
    "importlib.reload(op)\n",
    "objective = op.create_objective(\n",
    "    tr_df1,\n",
    "    early_stopping_rounds=200,\n",
    "    tree_method=\"gpu_hist\",\n",
    "    n_jobs=10\n",
    ")\n",
    "\n",
    "op.run_optuna_search(\n",
    "    objective,\n",
    "    n_trials=30,\n",
    "    n_jobs=1,\n",
    "    direction=\"minimize\",\n",
    "    study_name=\"xgb_v1\",\n",
    "    storage=url,\n",
    "    sampler=optuna.samplers.TPESampler(\n",
    "        n_startup_trials=10, seed=42)\n",
    ")\n",
    "te.send_telegram_message(\"XGB Training Complete!\")"
   ]
  }
 ],
 "metadata": {
  "kernelspec": {
   "display_name": "rapids-23.12",
   "language": "python",
   "name": "rapids-23.12"
  },
  "language_info": {
   "codemirror_mode": {
    "name": "ipython",
    "version": 3
   },
   "file_extension": ".py",
   "mimetype": "text/x-python",
   "name": "python",
   "nbconvert_exporter": "python",
   "pygments_lexer": "ipython3",
   "version": "3.10.18"
  }
 },
 "nbformat": 4,
 "nbformat_minor": 5
}
