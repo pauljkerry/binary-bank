{
 "cells": [
  {
   "cell_type": "code",
   "execution_count": 1,
   "id": "2cce5dde-4954-471c-9042-ba6a98cf8381",
   "metadata": {},
   "outputs": [],
   "source": [
    "import sys\n",
    "import os\n",
    "from pathlib import Path\n",
    "from dotenv import load_dotenv\n",
    "import pandas as pd\n",
    "import optuna\n",
    "import importlib\n",
    "\n",
    "sys.path.append(os.path.abspath(\"..\"))\n",
    "\n",
    "import src.models.xgb.xgb_cv_trainer as cv\n",
    "import src.models.xgb.xgb_optuna_optimizer as op\n",
    "import src.utils.telegram as te"
   ]
  },
  {
   "cell_type": "code",
   "execution_count": 2,
   "id": "9a5396e1-efff-4435-be07-3766456e6c27",
   "metadata": {},
   "outputs": [],
   "source": [
    "# Load data\n",
    "env_path = Path.cwd().parent / \".env\"\n",
    "load_dotenv(dotenv_path=env_path)\n",
    "url = os.environ.get(\"OPTUNA_STORAGE_URL\")\n",
    "\n",
    "tr_df12 = pd.read_parquet(\"../artifacts/features/base/tr_df12.parquet\")\n",
    "tr_df3 = pd.read_parquet(\"../artifacts/features/base/tr_df3.parquet\")"
   ]
  },
  {
   "cell_type": "code",
   "execution_count": 3,
   "id": "473699da-b224-465f-9ab6-525a9e67d60a",
   "metadata": {
    "scrolled": true
   },
   "outputs": [
    {
     "name": "stderr",
     "output_type": "stream",
     "text": [
      "[I 2025-08-08 15:48:34,647] Using an existing study with name 'xgb_v4' instead of creating a new one.\n"
     ]
    },
    {
     "data": {
      "application/vnd.jupyter.widget-view+json": {
       "model_id": "523a449c5c78454390932132ea16f323",
       "version_major": 2,
       "version_minor": 0
      },
      "text/plain": [
       "  0%|          | 0/3 [00:00<?, ?it/s]"
      ]
     },
     "metadata": {},
     "output_type": "display_data"
    },
    {
     "name": "stdout",
     "output_type": "stream",
     "text": [
      "[0]\ttrain-auc:0.96440\teval-auc:0.96301\n",
      "[100]\ttrain-auc:0.97504\teval-auc:0.97218\n",
      "[200]\ttrain-auc:0.97744\teval-auc:0.97328\n",
      "[300]\ttrain-auc:0.97953\teval-auc:0.97412\n",
      "[400]\ttrain-auc:0.98130\teval-auc:0.97476\n",
      "[500]\ttrain-auc:0.98285\teval-auc:0.97519\n",
      "[600]\ttrain-auc:0.98422\teval-auc:0.97547\n",
      "[700]\ttrain-auc:0.98548\teval-auc:0.97567\n",
      "[800]\ttrain-auc:0.98664\teval-auc:0.97581\n",
      "[900]\ttrain-auc:0.98766\teval-auc:0.97591\n",
      "[1000]\ttrain-auc:0.98860\teval-auc:0.97598\n",
      "[1100]\ttrain-auc:0.98948\teval-auc:0.97605\n",
      "[1200]\ttrain-auc:0.99031\teval-auc:0.97609\n",
      "[1300]\ttrain-auc:0.99107\teval-auc:0.97612\n",
      "[1400]\ttrain-auc:0.99177\teval-auc:0.97614\n",
      "[1500]\ttrain-auc:0.99242\teval-auc:0.97615\n",
      "[1600]\ttrain-auc:0.99302\teval-auc:0.97617\n",
      "[1700]\ttrain-auc:0.99357\teval-auc:0.97618\n",
      "[1800]\ttrain-auc:0.99406\teval-auc:0.97619\n",
      "[1900]\ttrain-auc:0.99450\teval-auc:0.97619\n",
      "[2000]\ttrain-auc:0.99491\teval-auc:0.97619\n",
      "[2100]\ttrain-auc:0.99530\teval-auc:0.97619\n",
      "[2110]\ttrain-auc:0.99534\teval-auc:0.97619\n",
      "Training time: 00:02:04\n",
      "Train AUC: 0.99455\n",
      "Valid AUC: 0.97619\n",
      "[I 2025-08-08 15:50:40,018] Trial 50 finished with value: 0.976194785806101 and parameters: {'learning_rate': 0.01148880602786759, 'max_depth': 17, 'min_child_weight': 9.52307562346332, 'colsample_bytree': 0.4916592737993171, 'subsample': 0.8115489347823505, 'reg_alpha': 12.156054406992912, 'reg_lambda': 0.45105904168441635}. Best is trial 42 with value: 0.9763406917174062.\n",
      "[0]\ttrain-auc:0.96827\teval-auc:0.96515\n",
      "[100]\ttrain-auc:0.97899\teval-auc:0.97293\n",
      "[200]\ttrain-auc:0.98250\teval-auc:0.97389\n",
      "[300]\ttrain-auc:0.98520\teval-auc:0.97459\n",
      "[400]\ttrain-auc:0.98728\teval-auc:0.97514\n",
      "[500]\ttrain-auc:0.98891\teval-auc:0.97549\n",
      "[600]\ttrain-auc:0.99022\teval-auc:0.97569\n",
      "[700]\ttrain-auc:0.99129\teval-auc:0.97585\n",
      "[800]\ttrain-auc:0.99226\teval-auc:0.97596\n",
      "[900]\ttrain-auc:0.99305\teval-auc:0.97603\n",
      "[1000]\ttrain-auc:0.99374\teval-auc:0.97608\n",
      "[1100]\ttrain-auc:0.99435\teval-auc:0.97612\n",
      "[1200]\ttrain-auc:0.99489\teval-auc:0.97616\n",
      "[1300]\ttrain-auc:0.99543\teval-auc:0.97618\n",
      "[1400]\ttrain-auc:0.99591\teval-auc:0.97620\n",
      "[1500]\ttrain-auc:0.99638\teval-auc:0.97621\n",
      "[1600]\ttrain-auc:0.99678\teval-auc:0.97623\n",
      "[1700]\ttrain-auc:0.99714\teval-auc:0.97625\n",
      "[1800]\ttrain-auc:0.99746\teval-auc:0.97627\n",
      "[1900]\ttrain-auc:0.99776\teval-auc:0.97627\n",
      "[2000]\ttrain-auc:0.99803\teval-auc:0.97627\n",
      "[2100]\ttrain-auc:0.99828\teval-auc:0.97628\n",
      "[2200]\ttrain-auc:0.99849\teval-auc:0.97628\n",
      "[2300]\ttrain-auc:0.99869\teval-auc:0.97628\n",
      "[2400]\ttrain-auc:0.99886\teval-auc:0.97629\n",
      "[2500]\ttrain-auc:0.99902\teval-auc:0.97628\n",
      "[2599]\ttrain-auc:0.99916\teval-auc:0.97628\n",
      "Training time: 00:02:12\n",
      "Train AUC: 0.99886\n",
      "Valid AUC: 0.97629\n",
      "[I 2025-08-08 15:52:53,131] Trial 51 finished with value: 0.976290210340339 and parameters: {'learning_rate': 0.010633427842496537, 'max_depth': 17, 'min_child_weight': 13.858301022601617, 'colsample_bytree': 0.470521072393315, 'subsample': 0.8728222558525126, 'reg_alpha': 0.5309451955706344, 'reg_lambda': 2.6131415543389283}. Best is trial 42 with value: 0.9763406917174062.\n",
      "[0]\ttrain-auc:0.96520\teval-auc:0.96354\n",
      "[100]\ttrain-auc:0.97537\teval-auc:0.97225\n",
      "[200]\ttrain-auc:0.97781\teval-auc:0.97328\n",
      "[300]\ttrain-auc:0.97985\teval-auc:0.97404\n",
      "[400]\ttrain-auc:0.98159\teval-auc:0.97466\n",
      "[500]\ttrain-auc:0.98298\teval-auc:0.97508\n",
      "[600]\ttrain-auc:0.98421\teval-auc:0.97536\n",
      "[700]\ttrain-auc:0.98532\teval-auc:0.97558\n",
      "[800]\ttrain-auc:0.98634\teval-auc:0.97574\n",
      "[900]\ttrain-auc:0.98717\teval-auc:0.97584\n",
      "[1000]\ttrain-auc:0.98794\teval-auc:0.97594\n",
      "[1100]\ttrain-auc:0.98866\teval-auc:0.97601\n",
      "[1200]\ttrain-auc:0.98934\teval-auc:0.97606\n",
      "[1300]\ttrain-auc:0.98998\teval-auc:0.97611\n",
      "[1400]\ttrain-auc:0.99060\teval-auc:0.97614\n",
      "[1500]\ttrain-auc:0.99120\teval-auc:0.97618\n",
      "[1600]\ttrain-auc:0.99179\teval-auc:0.97619\n",
      "[1700]\ttrain-auc:0.99229\teval-auc:0.97620\n",
      "[1800]\ttrain-auc:0.99279\teval-auc:0.97622\n",
      "[1900]\ttrain-auc:0.99324\teval-auc:0.97623\n",
      "[2000]\ttrain-auc:0.99367\teval-auc:0.97625\n",
      "[2100]\ttrain-auc:0.99408\teval-auc:0.97625\n",
      "[2200]\ttrain-auc:0.99448\teval-auc:0.97626\n",
      "[2300]\ttrain-auc:0.99488\teval-auc:0.97627\n",
      "[2400]\ttrain-auc:0.99526\teval-auc:0.97627\n",
      "[2448]\ttrain-auc:0.99543\teval-auc:0.97627\n",
      "Training time: 00:01:45\n",
      "Train AUC: 0.99466\n",
      "Valid AUC: 0.97627\n",
      "[I 2025-08-08 15:54:39,469] Trial 52 finished with value: 0.9762714620835299 and parameters: {'learning_rate': 0.010166492966030926, 'max_depth': 15, 'min_child_weight': 17.323293263916046, 'colsample_bytree': 0.4402606896762749, 'subsample': 0.8860234942595887, 'reg_alpha': 4.051572782504358, 'reg_lambda': 4.714220781378064}. Best is trial 42 with value: 0.9763406917174062.\n",
      "✅ Message sent successfully.\n"
     ]
    }
   ],
   "source": [
    "# Tuning\n",
    "importlib.reload(cv)\n",
    "importlib.reload(op)\n",
    "objective = op.create_objective(\n",
    "    tr_df12,\n",
    "    early_stopping_rounds=200,\n",
    "    tree_method=\"gpu_hist\",\n",
    "    n_jobs=10\n",
    ")\n",
    "\n",
    "op.run_optuna_search(\n",
    "    objective,\n",
    "    n_trials=3,\n",
    "    n_jobs=1,\n",
    "    direction=\"maximize\",\n",
    "    study_name=\"xgb_v4\",\n",
    "    storage=url,\n",
    "    sampler=optuna.samplers.TPESampler(\n",
    "        n_startup_trials=20, seed=42)\n",
    ")\n",
    "te.send_telegram_message(\"XGB Training Complete!\")"
   ]
  }
 ],
 "metadata": {
  "kernelspec": {
   "display_name": "rapids-23.12",
   "language": "python",
   "name": "rapids-23.12"
  },
  "language_info": {
   "codemirror_mode": {
    "name": "ipython",
    "version": 3
   },
   "file_extension": ".py",
   "mimetype": "text/x-python",
   "name": "python",
   "nbconvert_exporter": "python",
   "pygments_lexer": "ipython3",
   "version": "3.10.18"
  }
 },
 "nbformat": 4,
 "nbformat_minor": 5
}
